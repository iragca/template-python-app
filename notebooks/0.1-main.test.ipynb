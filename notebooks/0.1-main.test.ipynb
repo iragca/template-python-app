{
 "cells": [
  {
   "cell_type": "code",
   "execution_count": 2,
   "id": "df9798cc",
   "metadata": {},
   "outputs": [
    {
     "name": "stderr",
     "output_type": "stream",
     "text": [
      "\u001b[32m2025-06-28 12:33:21.174\u001b[0m | \u001b[33m\u001b[1mWARNING \u001b[0m | \u001b[36msrc.config\u001b[0m:\u001b[36m<module>\u001b[0m:\u001b[36m15\u001b[0m - \u001b[33m\u001b[1m.env file not found at /home/iragca/Documents/github/template-python-app/.env. Please create one with the required environment variables.\u001b[0m\n",
      "\u001b[32m2025-06-28 12:33:21.175\u001b[0m | \u001b[1mINFO    \u001b[0m | \u001b[36msrc.config\u001b[0m:\u001b[36m<module>\u001b[0m:\u001b[36m42\u001b[0m - \u001b[1mPROJECT_ROOT: /home/iragca/Documents/github/template-python-app\u001b[0m\n",
      "\u001b[32m2025-06-28 12:33:21.175\u001b[0m | \u001b[1mINFO    \u001b[0m | \u001b[36msrc.config\u001b[0m:\u001b[36m<module>\u001b[0m:\u001b[36m43\u001b[0m - \u001b[1mDATA_DIR: /home/iragca/Documents/github/template-python-app/data\u001b[0m\n"
     ]
    },
    {
     "name": "stdout",
     "output_type": "stream",
     "text": [
      "Hello, from template-python-app!\n"
     ]
    }
   ],
   "source": [
    "from src.config import PROJECT_ROOT\n",
    "from src.utils import greetings\n",
    "\n",
    "greetings(PROJECT_ROOT.name)"
   ]
  }
 ],
 "metadata": {
  "kernelspec": {
   "display_name": ".venv",
   "language": "python",
   "name": "python3"
  },
  "language_info": {
   "codemirror_mode": {
    "name": "ipython",
    "version": 3
   },
   "file_extension": ".py",
   "mimetype": "text/x-python",
   "name": "python",
   "nbconvert_exporter": "python",
   "pygments_lexer": "ipython3",
   "version": "3.12.11"
  }
 },
 "nbformat": 4,
 "nbformat_minor": 5
}
